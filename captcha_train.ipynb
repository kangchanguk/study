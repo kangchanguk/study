{
 "cells": [
  {
   "cell_type": "code",
   "execution_count": 1,
   "id": "laughing-interim",
   "metadata": {},
   "outputs": [
    {
     "ename": "ModuleNotFoundError",
     "evalue": "No module named 'torch'",
     "output_type": "error",
     "traceback": [
      "\u001b[0;31m---------------------------------------------------------------------------\u001b[0m",
      "\u001b[0;31mModuleNotFoundError\u001b[0m                       Traceback (most recent call last)",
      "\u001b[0;32m<ipython-input-1-7df291f010a1>\u001b[0m in \u001b[0;36m<module>\u001b[0;34m\u001b[0m\n\u001b[1;32m      1\u001b[0m \u001b[0;32mimport\u001b[0m \u001b[0mos\u001b[0m\u001b[0;34m\u001b[0m\u001b[0;34m\u001b[0m\u001b[0m\n\u001b[0;32m----> 2\u001b[0;31m \u001b[0;32mfrom\u001b[0m \u001b[0mtorch\u001b[0m\u001b[0;34m.\u001b[0m\u001b[0mutils\u001b[0m\u001b[0;34m.\u001b[0m\u001b[0mdata\u001b[0m \u001b[0;32mimport\u001b[0m \u001b[0mDataLoader\u001b[0m\u001b[0;34m,\u001b[0m\u001b[0mDataset\u001b[0m\u001b[0;34m\u001b[0m\u001b[0;34m\u001b[0m\u001b[0m\n\u001b[0m\u001b[1;32m      3\u001b[0m \u001b[0;32mimport\u001b[0m \u001b[0mtorchvision\u001b[0m\u001b[0;34m.\u001b[0m\u001b[0mtransforms\u001b[0m \u001b[0;32mas\u001b[0m \u001b[0mtransforms\u001b[0m\u001b[0;34m\u001b[0m\u001b[0;34m\u001b[0m\u001b[0m\n\u001b[1;32m      4\u001b[0m \u001b[0;32mfrom\u001b[0m \u001b[0mPIL\u001b[0m \u001b[0;32mimport\u001b[0m \u001b[0mImage\u001b[0m\u001b[0;34m\u001b[0m\u001b[0;34m\u001b[0m\u001b[0m\n\u001b[1;32m      5\u001b[0m \u001b[0;32mimport\u001b[0m \u001b[0mnumpy\u001b[0m \u001b[0;32mas\u001b[0m \u001b[0mnp\u001b[0m\u001b[0;34m\u001b[0m\u001b[0;34m\u001b[0m\u001b[0m\n",
      "\u001b[0;31mModuleNotFoundError\u001b[0m: No module named 'torch'"
     ]
    }
   ],
   "source": [
    "import os\n",
    "from torch.utils.data import DataLoader,Dataset\n",
    "import torchvision.transforms as transforms\n",
    "from PIL import Image\n",
    "import numpy as np\n",
    "import pandas as pd\n",
    "from torchvision import models\n",
    "import torch.nn as nn\n",
    "from fastai.vision import Path\n",
    "import torch\n",
    "from torch.autograd import Variable"
   ]
  },
  {
   "cell_type": "code",
   "execution_count": 2,
   "id": "limited-determination",
   "metadata": {},
   "outputs": [
    {
     "ename": "SyntaxError",
     "evalue": "invalid syntax (<ipython-input-2-28649eda813e>, line 1)",
     "output_type": "error",
     "traceback": [
      "\u001b[0;36m  File \u001b[0;32m\"<ipython-input-2-28649eda813e>\"\u001b[0;36m, line \u001b[0;32m1\u001b[0m\n\u001b[0;31m    python3 -m  pip install pytorch\u001b[0m\n\u001b[0m                ^\u001b[0m\n\u001b[0;31mSyntaxError\u001b[0m\u001b[0;31m:\u001b[0m invalid syntax\n"
     ]
    }
   ],
   "source": [
    "python3 -m  pip install pytorch\n"
   ]
  },
  {
   "cell_type": "code",
   "execution_count": 1,
   "id": "wicked-masters",
   "metadata": {},
   "outputs": [
    {
     "ename": "ImportError",
     "evalue": "cannot import name 'Path' from 'fastai.vision' (/Users/user/toonradar/myenv/lib/python3.8/site-packages/fastai/vision/__init__.py)",
     "output_type": "error",
     "traceback": [
      "\u001b[0;31m---------------------------------------------------------------------------\u001b[0m",
      "\u001b[0;31mImportError\u001b[0m                               Traceback (most recent call last)",
      "\u001b[0;32m<ipython-input-1-7df291f010a1>\u001b[0m in \u001b[0;36m<module>\u001b[0;34m\u001b[0m\n\u001b[1;32m      7\u001b[0m \u001b[0;32mfrom\u001b[0m \u001b[0mtorchvision\u001b[0m \u001b[0;32mimport\u001b[0m \u001b[0mmodels\u001b[0m\u001b[0;34m\u001b[0m\u001b[0;34m\u001b[0m\u001b[0m\n\u001b[1;32m      8\u001b[0m \u001b[0;32mimport\u001b[0m \u001b[0mtorch\u001b[0m\u001b[0;34m.\u001b[0m\u001b[0mnn\u001b[0m \u001b[0;32mas\u001b[0m \u001b[0mnn\u001b[0m\u001b[0;34m\u001b[0m\u001b[0;34m\u001b[0m\u001b[0m\n\u001b[0;32m----> 9\u001b[0;31m \u001b[0;32mfrom\u001b[0m \u001b[0mfastai\u001b[0m\u001b[0;34m.\u001b[0m\u001b[0mvision\u001b[0m \u001b[0;32mimport\u001b[0m \u001b[0mPath\u001b[0m\u001b[0;34m\u001b[0m\u001b[0;34m\u001b[0m\u001b[0m\n\u001b[0m\u001b[1;32m     10\u001b[0m \u001b[0;32mimport\u001b[0m \u001b[0mtorch\u001b[0m\u001b[0;34m\u001b[0m\u001b[0;34m\u001b[0m\u001b[0m\n\u001b[1;32m     11\u001b[0m \u001b[0;32mfrom\u001b[0m \u001b[0mtorch\u001b[0m\u001b[0;34m.\u001b[0m\u001b[0mautograd\u001b[0m \u001b[0;32mimport\u001b[0m \u001b[0mVariable\u001b[0m\u001b[0;34m\u001b[0m\u001b[0;34m\u001b[0m\u001b[0m\n",
      "\u001b[0;31mImportError\u001b[0m: cannot import name 'Path' from 'fastai.vision' (/Users/user/toonradar/myenv/lib/python3.8/site-packages/fastai/vision/__init__.py)"
     ]
    }
   ],
   "source": [
    "import os\n",
    "from torch.utils.data import DataLoader,Dataset\n",
    "import torchvision.transforms as transforms\n",
    "from PIL import Image\n",
    "import numpy as np\n",
    "import pandas as pd\n",
    "from torchvision import models\n",
    "import torch.nn as nn\n",
    "from fastai.vision import Path\n",
    "import torch\n",
    "from torch.autograd import Variable\n"
   ]
  },
  {
   "cell_type": "code",
   "execution_count": 1,
   "id": "authentic-realtor",
   "metadata": {},
   "outputs": [
    {
     "ename": "ImportError",
     "evalue": "cannot import name 'Path' from 'fastai.vision' (/Users/user/toonradar/myenv/lib/python3.8/site-packages/fastai/vision/__init__.py)",
     "output_type": "error",
     "traceback": [
      "\u001b[0;31m---------------------------------------------------------------------------\u001b[0m",
      "\u001b[0;31mImportError\u001b[0m                               Traceback (most recent call last)",
      "\u001b[0;32m<ipython-input-1-7df291f010a1>\u001b[0m in \u001b[0;36m<module>\u001b[0;34m\u001b[0m\n\u001b[1;32m      7\u001b[0m \u001b[0;32mfrom\u001b[0m \u001b[0mtorchvision\u001b[0m \u001b[0;32mimport\u001b[0m \u001b[0mmodels\u001b[0m\u001b[0;34m\u001b[0m\u001b[0;34m\u001b[0m\u001b[0m\n\u001b[1;32m      8\u001b[0m \u001b[0;32mimport\u001b[0m \u001b[0mtorch\u001b[0m\u001b[0;34m.\u001b[0m\u001b[0mnn\u001b[0m \u001b[0;32mas\u001b[0m \u001b[0mnn\u001b[0m\u001b[0;34m\u001b[0m\u001b[0;34m\u001b[0m\u001b[0m\n\u001b[0;32m----> 9\u001b[0;31m \u001b[0;32mfrom\u001b[0m \u001b[0mfastai\u001b[0m\u001b[0;34m.\u001b[0m\u001b[0mvision\u001b[0m \u001b[0;32mimport\u001b[0m \u001b[0mPath\u001b[0m\u001b[0;34m\u001b[0m\u001b[0;34m\u001b[0m\u001b[0m\n\u001b[0m\u001b[1;32m     10\u001b[0m \u001b[0;32mimport\u001b[0m \u001b[0mtorch\u001b[0m\u001b[0;34m\u001b[0m\u001b[0;34m\u001b[0m\u001b[0m\n\u001b[1;32m     11\u001b[0m \u001b[0;32mfrom\u001b[0m \u001b[0mtorch\u001b[0m\u001b[0;34m.\u001b[0m\u001b[0mautograd\u001b[0m \u001b[0;32mimport\u001b[0m \u001b[0mVariable\u001b[0m\u001b[0;34m\u001b[0m\u001b[0;34m\u001b[0m\u001b[0m\n",
      "\u001b[0;31mImportError\u001b[0m: cannot import name 'Path' from 'fastai.vision' (/Users/user/toonradar/myenv/lib/python3.8/site-packages/fastai/vision/__init__.py)"
     ]
    }
   ],
   "source": [
    "import os\n",
    "from torch.utils.data import DataLoader,Dataset\n",
    "import torchvision.transforms as transforms\n",
    "from PIL import Image\n",
    "import numpy as np\n",
    "import pandas as pd\n",
    "from torchvision import models\n",
    "import torch.nn as nn\n",
    "from fastai.vision import Path\n",
    "import torch\n",
    "from torch.autograd import Variable\n"
   ]
  },
  {
   "cell_type": "code",
   "execution_count": 2,
   "id": "furnished-copying",
   "metadata": {},
   "outputs": [
    {
     "name": "stdout",
     "output_type": "stream",
     "text": [
      "Requirement already satisfied: fastai in /Users/user/toonradar/myenv/lib/python3.8/site-packages (2.2.7)\n",
      "Requirement already satisfied: fastprogress>=0.2.4 in /Users/user/toonradar/myenv/lib/python3.8/site-packages (from fastai) (1.0.0)\n",
      "Requirement already satisfied: pillow>6.0.0 in /Users/user/toonradar/myenv/lib/python3.8/site-packages (from fastai) (8.1.0)\n",
      "Requirement already satisfied: spacy<3 in /Users/user/toonradar/myenv/lib/python3.8/site-packages (from fastai) (2.3.5)\n",
      "Requirement already satisfied: matplotlib in /Users/user/toonradar/myenv/lib/python3.8/site-packages (from fastai) (3.3.4)\n",
      "Requirement already satisfied: requests in /Users/user/toonradar/myenv/lib/python3.8/site-packages (from fastai) (2.24.0)\n",
      "Requirement already satisfied: pip in /Users/user/toonradar/myenv/lib/python3.8/site-packages (from fastai) (21.0.1)\n",
      "Requirement already satisfied: fastcore<1.4,>=1.3.8 in /Users/user/toonradar/myenv/lib/python3.8/site-packages (from fastai) (1.3.19)\n",
      "Requirement already satisfied: pyyaml in /Users/user/toonradar/myenv/lib/python3.8/site-packages (from fastai) (5.3.1)\n",
      "Requirement already satisfied: torch<1.8,>=1.7.0 in /Users/user/toonradar/myenv/lib/python3.8/site-packages (from fastai) (1.7.1)\n",
      "Requirement already satisfied: torchvision<0.9,>=0.8 in /Users/user/toonradar/myenv/lib/python3.8/site-packages (from fastai) (0.8.2)\n",
      "Requirement already satisfied: scipy in /Users/user/toonradar/myenv/lib/python3.8/site-packages (from fastai) (1.5.4)\n",
      "Requirement already satisfied: scikit-learn in /Users/user/toonradar/myenv/lib/python3.8/site-packages (from fastai) (0.23.2)\n",
      "Requirement already satisfied: packaging in /Users/user/toonradar/myenv/lib/python3.8/site-packages (from fastai) (20.9)\n",
      "Requirement already satisfied: pandas in /Users/user/toonradar/myenv/lib/python3.8/site-packages (from fastai) (1.1.4)\n",
      "Requirement already satisfied: numpy in /Users/user/toonradar/myenv/lib/python3.8/site-packages (from fastprogress>=0.2.4->fastai) (1.19.4)\n",
      "Requirement already satisfied: preshed<3.1.0,>=3.0.2 in /Users/user/toonradar/myenv/lib/python3.8/site-packages (from spacy<3->fastai) (3.0.5)\n",
      "Requirement already satisfied: tqdm<5.0.0,>=4.38.0 in /Users/user/toonradar/myenv/lib/python3.8/site-packages (from spacy<3->fastai) (4.59.0)\n",
      "Requirement already satisfied: thinc<7.5.0,>=7.4.1 in /Users/user/toonradar/myenv/lib/python3.8/site-packages (from spacy<3->fastai) (7.4.5)\n",
      "Requirement already satisfied: cymem<2.1.0,>=2.0.2 in /Users/user/toonradar/myenv/lib/python3.8/site-packages (from spacy<3->fastai) (2.0.5)\n",
      "Requirement already satisfied: wasabi<1.1.0,>=0.4.0 in /Users/user/toonradar/myenv/lib/python3.8/site-packages (from spacy<3->fastai) (0.8.2)\n",
      "Requirement already satisfied: murmurhash<1.1.0,>=0.28.0 in /Users/user/toonradar/myenv/lib/python3.8/site-packages (from spacy<3->fastai) (1.0.5)\n",
      "Requirement already satisfied: blis<0.8.0,>=0.4.0 in /Users/user/toonradar/myenv/lib/python3.8/site-packages (from spacy<3->fastai) (0.7.4)\n",
      "Requirement already satisfied: srsly<1.1.0,>=1.0.2 in /Users/user/toonradar/myenv/lib/python3.8/site-packages (from spacy<3->fastai) (1.0.5)\n",
      "Requirement already satisfied: catalogue<1.1.0,>=0.0.7 in /Users/user/toonradar/myenv/lib/python3.8/site-packages (from spacy<3->fastai) (1.0.0)\n",
      "Requirement already satisfied: setuptools in /Users/user/toonradar/myenv/lib/python3.8/site-packages (from spacy<3->fastai) (50.3.2)\n",
      "Requirement already satisfied: plac<1.2.0,>=0.9.6 in /Users/user/toonradar/myenv/lib/python3.8/site-packages (from spacy<3->fastai) (1.1.3)\n",
      "Requirement already satisfied: chardet<4,>=3.0.2 in /Users/user/toonradar/myenv/lib/python3.8/site-packages (from requests->fastai) (3.0.4)\n",
      "Requirement already satisfied: certifi>=2017.4.17 in /Users/user/toonradar/myenv/lib/python3.8/site-packages (from requests->fastai) (2020.6.20)\n",
      "Requirement already satisfied: urllib3!=1.25.0,!=1.25.1,<1.26,>=1.21.1 in /Users/user/toonradar/myenv/lib/python3.8/site-packages (from requests->fastai) (1.25.11)\n",
      "Requirement already satisfied: idna<3,>=2.5 in /Users/user/toonradar/myenv/lib/python3.8/site-packages (from requests->fastai) (2.10)\n",
      "Requirement already satisfied: typing-extensions in /Users/user/toonradar/myenv/lib/python3.8/site-packages (from torch<1.8,>=1.7.0->fastai) (3.7.4.3)\n",
      "Requirement already satisfied: kiwisolver>=1.0.1 in /Users/user/toonradar/myenv/lib/python3.8/site-packages (from matplotlib->fastai) (1.3.1)\n",
      "Requirement already satisfied: cycler>=0.10 in /Users/user/toonradar/myenv/lib/python3.8/site-packages (from matplotlib->fastai) (0.10.0)\n",
      "Requirement already satisfied: pyparsing!=2.0.4,!=2.1.2,!=2.1.6,>=2.0.3 in /Users/user/toonradar/myenv/lib/python3.8/site-packages (from matplotlib->fastai) (2.4.7)\n",
      "Requirement already satisfied: python-dateutil>=2.1 in /Users/user/toonradar/myenv/lib/python3.8/site-packages (from matplotlib->fastai) (2.8.1)\n",
      "Requirement already satisfied: six in /Users/user/toonradar/myenv/lib/python3.8/site-packages (from cycler>=0.10->matplotlib->fastai) (1.15.0)\n",
      "Requirement already satisfied: pytz>=2017.2 in /Users/user/toonradar/myenv/lib/python3.8/site-packages (from pandas->fastai) (2020.1)\n",
      "Requirement already satisfied: joblib>=0.11 in /Users/user/toonradar/myenv/lib/python3.8/site-packages (from scikit-learn->fastai) (1.0.0)\n",
      "Requirement already satisfied: threadpoolctl>=2.0.0 in /Users/user/toonradar/myenv/lib/python3.8/site-packages (from scikit-learn->fastai) (2.1.0)\n",
      "Note: you may need to restart the kernel to use updated packages.\n"
     ]
    }
   ],
   "source": [
    "pip install fastai"
   ]
  },
  {
   "cell_type": "code",
   "execution_count": 1,
   "id": "outstanding-public",
   "metadata": {},
   "outputs": [
    {
     "ename": "ImportError",
     "evalue": "cannot import name 'Path' from 'fastai.vision' (/Users/user/toonradar/myenv/lib/python3.8/site-packages/fastai/vision/__init__.py)",
     "output_type": "error",
     "traceback": [
      "\u001b[0;31m---------------------------------------------------------------------------\u001b[0m",
      "\u001b[0;31mImportError\u001b[0m                               Traceback (most recent call last)",
      "\u001b[0;32m<ipython-input-1-7df291f010a1>\u001b[0m in \u001b[0;36m<module>\u001b[0;34m\u001b[0m\n\u001b[1;32m      7\u001b[0m \u001b[0;32mfrom\u001b[0m \u001b[0mtorchvision\u001b[0m \u001b[0;32mimport\u001b[0m \u001b[0mmodels\u001b[0m\u001b[0;34m\u001b[0m\u001b[0;34m\u001b[0m\u001b[0m\n\u001b[1;32m      8\u001b[0m \u001b[0;32mimport\u001b[0m \u001b[0mtorch\u001b[0m\u001b[0;34m.\u001b[0m\u001b[0mnn\u001b[0m \u001b[0;32mas\u001b[0m \u001b[0mnn\u001b[0m\u001b[0;34m\u001b[0m\u001b[0;34m\u001b[0m\u001b[0m\n\u001b[0;32m----> 9\u001b[0;31m \u001b[0;32mfrom\u001b[0m \u001b[0mfastai\u001b[0m\u001b[0;34m.\u001b[0m\u001b[0mvision\u001b[0m \u001b[0;32mimport\u001b[0m \u001b[0mPath\u001b[0m\u001b[0;34m\u001b[0m\u001b[0;34m\u001b[0m\u001b[0m\n\u001b[0m\u001b[1;32m     10\u001b[0m \u001b[0;32mimport\u001b[0m \u001b[0mtorch\u001b[0m\u001b[0;34m\u001b[0m\u001b[0;34m\u001b[0m\u001b[0m\n\u001b[1;32m     11\u001b[0m \u001b[0;32mfrom\u001b[0m \u001b[0mtorch\u001b[0m\u001b[0;34m.\u001b[0m\u001b[0mautograd\u001b[0m \u001b[0;32mimport\u001b[0m \u001b[0mVariable\u001b[0m\u001b[0;34m\u001b[0m\u001b[0;34m\u001b[0m\u001b[0m\n",
      "\u001b[0;31mImportError\u001b[0m: cannot import name 'Path' from 'fastai.vision' (/Users/user/toonradar/myenv/lib/python3.8/site-packages/fastai/vision/__init__.py)"
     ]
    }
   ],
   "source": [
    "import os\n",
    "from torch.utils.data import DataLoader,Dataset\n",
    "import torchvision.transforms as transforms\n",
    "from PIL import Image\n",
    "import numpy as np\n",
    "import pandas as pd\n",
    "from torchvision import models\n",
    "import torch.nn as nn\n",
    "from fastai.vision import Path\n",
    "import torch\n",
    "from torch.autograd import Variable\n"
   ]
  },
  {
   "cell_type": "code",
   "execution_count": null,
   "id": "dutch-touch",
   "metadata": {},
   "outputs": [],
   "source": []
  }
 ],
 "metadata": {
  "kernelspec": {
   "display_name": "Python 3",
   "language": "python",
   "name": "python3"
  },
  "language_info": {
   "codemirror_mode": {
    "name": "ipython",
    "version": 3
   },
   "file_extension": ".py",
   "mimetype": "text/x-python",
   "name": "python",
   "nbconvert_exporter": "python",
   "pygments_lexer": "ipython3",
   "version": "3.8.2"
  }
 },
 "nbformat": 4,
 "nbformat_minor": 5
}
